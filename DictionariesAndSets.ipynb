{
 "cells": [
  {
   "cell_type": "markdown",
   "metadata": {},
   "source": [
    "# Python Data Structures Cheat Sheet (Dictionaries and Sets)"
   ]
  },
  {
   "cell_type": "markdown",
   "metadata": {},
   "source": [
    "## **Dictionaries**"
   ]
  },
  {
   "cell_type": "markdown",
   "metadata": {},
   "source": [
    "### Creating a dictionary\n",
    "A dictionary is a built-in data type that represents a collection of key-value pairs. Dictionaries are enclosed by curly braces {}."
   ]
  },
  {
   "cell_type": "code",
   "execution_count": 1,
   "metadata": {},
   "outputs": [],
   "source": [
    "# Example\n",
    "dict_name = {} # creates an empty dictionary\n",
    "person = {\"name\": \"John\", \"age\": 30, \"city\": \"New York\"}"
   ]
  },
  {
   "cell_type": "markdown",
   "metadata": {},
   "source": [
    "### Accessing Values\n",
    "You can access the values in a dictionary using their corresponding keys. \\\n",
    "Syntax: `value = dict_name[\"key_name\"]`"
   ]
  },
  {
   "cell_type": "code",
   "execution_count": 2,
   "metadata": {},
   "outputs": [],
   "source": [
    "# Example\n",
    "name = person[\"name\"]\n",
    "age = person[\"age\"]"
   ]
  },
  {
   "cell_type": "markdown",
   "metadata": {},
   "source": [
    "### Add or modify\n",
    "Inserts a new key-value pair into the dictionary. If the key already exists, the value will be updated; otherwise, a new entry is created. \\\n",
    "Syntax: `dict_name[key] = value`"
   ]
  },
  {
   "cell_type": "code",
   "execution_count": 4,
   "metadata": {},
   "outputs": [],
   "source": [
    "# Example\n",
    "person[\"country\"] = \"USA\" # a new entry will be created\n",
    "person[\"city\"] = \"Chicago\" # updating the existing value for the same key"
   ]
  },
  {
   "cell_type": "markdown",
   "metadata": {},
   "source": [
    "### del\n",
    "Removes the specified key-value pair from the dictionary. Raises a KeyError if the key does not exist. \\\n",
    "Syntax: `del dict_name[key]`"
   ]
  },
  {
   "cell_type": "code",
   "execution_count": null,
   "metadata": {},
   "outputs": [
    {
     "name": "stdout",
     "output_type": "stream",
     "text": [
      "{'name': 'John', 'age': 30, 'city': 'Chicago'}\n"
     ]
    }
   ],
   "source": [
    "# Example\n",
    "del person[\"country\"]\n",
    "person"
   ]
  },
  {
   "cell_type": "markdown",
   "metadata": {},
   "source": [
    "### update()\n",
    "The `update()` method merges the provided dictionary into the existing dictionary, adding or updating key-value pairs. \\\n",
    "Syntax: `dict_name.update({key: value})`"
   ]
  },
  {
   "cell_type": "code",
   "execution_count": 6,
   "metadata": {},
   "outputs": [
    {
     "data": {
      "text/plain": [
       "{'name': 'John', 'age': 30, 'city': 'Chicago', 'profession': 'doctor'}"
      ]
     },
     "execution_count": 6,
     "metadata": {},
     "output_type": "execute_result"
    }
   ],
   "source": [
    "# Example\n",
    "person.update({\"profession\": \"doctor\"})\n",
    "person"
   ]
  },
  {
   "cell_type": "markdown",
   "metadata": {},
   "source": [
    "### clear()\n",
    "The `clear()` method empties the dictionary, removing all key-value pairs within it. After this operation, the dictionary is still accessible and can be used further. \\\n",
    "Syntax: `dict_name.clear()`"
   ]
  },
  {
   "cell_type": "code",
   "execution_count": 7,
   "metadata": {},
   "outputs": [
    {
     "data": {
      "text/plain": [
       "{}"
      ]
     },
     "execution_count": 7,
     "metadata": {},
     "output_type": "execute_result"
    }
   ],
   "source": [
    "# Example\n",
    "grades = {\"biology\": 90, \"calculus\": 85, \"history\": 72, \"art\": 100}\n",
    "grades.clear()\n",
    "grades"
   ]
  },
  {
   "cell_type": "markdown",
   "metadata": {},
   "source": [
    "### key existence\n",
    "You can check for the existence of a key in a dictionary using the `in` keyword."
   ]
  },
  {
   "cell_type": "code",
   "execution_count": 9,
   "metadata": {},
   "outputs": [
    {
     "name": "stdout",
     "output_type": "stream",
     "text": [
      "Name exists in the dictionary.\n"
     ]
    }
   ],
   "source": [
    "# Example\n",
    "if \"name\" in person:\n",
    "    print(\"Name exists in the dictionary.\")"
   ]
  },
  {
   "cell_type": "markdown",
   "metadata": {},
   "source": [
    "### copy()\n",
    "Creates a shallow copy of the dictionary. The new dictionary contains the same key-value pairs as the original, but they remain distinct objects in memory. \\\n",
    "Syntax: `new_dict = dict_name.copy()`"
   ]
  },
  {
   "cell_type": "code",
   "execution_count": null,
   "metadata": {},
   "outputs": [],
   "source": [
    "# Example\n",
    "new_person = person.copy()"
   ]
  },
  {
   "cell_type": "markdown",
   "metadata": {},
   "source": [
    "### keys()\n",
    "Retrieves all keys from the dictionary and converts them into a list. Useful for iterating or processing keys using list methods. \\\n",
    "Syntax: `keys_list = list(dict_name.keys())`"
   ]
  },
  {
   "cell_type": "code",
   "execution_count": 10,
   "metadata": {},
   "outputs": [],
   "source": [
    "# Example\n",
    "person_keys = list(person.keys())"
   ]
  },
  {
   "cell_type": "markdown",
   "metadata": {},
   "source": [
    "### values()\n",
    "Extracts all values from the dictionary and converts them into a list. This list can be used for further processing or analysis. \\\n",
    "Syntax: `values_list = list(dict_name.values())`"
   ]
  },
  {
   "cell_type": "code",
   "execution_count": 11,
   "metadata": {},
   "outputs": [],
   "source": [
    "# Example\n",
    "person_values = list(person.values())"
   ]
  },
  {
   "cell_type": "markdown",
   "metadata": {},
   "source": [
    "### items()\n",
    "Retrieves all key-value pairs as tuples and converts them into a list of tuples. Each tuple consists of a key and its corresponding value. \\\n",
    "Syntax: `items_list = list(dict_name.items())`"
   ]
  },
  {
   "cell_type": "code",
   "execution_count": 12,
   "metadata": {},
   "outputs": [],
   "source": [
    "# Example\n",
    "info = list(person.items())"
   ]
  },
  {
   "cell_type": "markdown",
   "metadata": {},
   "source": [
    "## **Sets**"
   ]
  },
  {
   "cell_type": "markdown",
   "metadata": {},
   "source": [
    "### add()\n",
    "Elements can be added to a set using the `add()` method. Duplicates are automatically removed, as sets only store unique values. \\\n",
    "Syntax: `set_name.add(element)`"
   ]
  },
  {
   "cell_type": "code",
   "execution_count": 14,
   "metadata": {},
   "outputs": [
    {
     "data": {
      "text/plain": [
       "{'mango', 'strawberry'}"
      ]
     },
     "execution_count": 14,
     "metadata": {},
     "output_type": "execute_result"
    }
   ],
   "source": [
    "# Example\n",
    "fruits = {\"strawberry\"}\n",
    "fruits.add(\"mango\")\n",
    "fruits"
   ]
  },
  {
   "cell_type": "markdown",
   "metadata": {},
   "source": [
    "### clear()\n",
    "The `clear()` method removes all elements from the set, resulting in an empty set. It updates the set in-place. \\\n",
    "Syntax: `set_name.clear()`"
   ]
  },
  {
   "cell_type": "code",
   "execution_count": 15,
   "metadata": {},
   "outputs": [],
   "source": [
    "# Example\n",
    "fruits.clear()"
   ]
  },
  {
   "cell_type": "markdown",
   "metadata": {},
   "source": [
    "### copy()\n",
    "The `copy()` method creates a shallow copy of the set. Any modifications to the copy wont affect the original set. \\\n",
    "Syntax: `new_set = set_name.copy()`"
   ]
  },
  {
   "cell_type": "code",
   "execution_count": 16,
   "metadata": {},
   "outputs": [],
   "source": [
    "# Example\n",
    "new_fruits = fruits.copy()"
   ]
  },
  {
   "cell_type": "markdown",
   "metadata": {},
   "source": [
    "### Defining  sets\n",
    "A set is an unordered collection of unique elements. Sets are enclosed by curly braces `{}`. They are useful for storing distinct values and performing set operations."
   ]
  },
  {
   "cell_type": "code",
   "execution_count": 18,
   "metadata": {},
   "outputs": [],
   "source": [
    "# Example\n",
    "empty_set = set() # creating an empty set\n",
    "fruits = {\"apple\", \"banana\", \"orange\"}"
   ]
  },
  {
   "cell_type": "markdown",
   "metadata": {},
   "source": [
    "### discard()\n",
    "Use the `discard()` method to remove a specific element from the set. Ignores if the element is not found. \\\n",
    "Syntax: `set_name.discard(element)`"
   ]
  },
  {
   "cell_type": "code",
   "execution_count": 19,
   "metadata": {},
   "outputs": [
    {
     "data": {
      "text/plain": [
       "{'banana', 'orange'}"
      ]
     },
     "execution_count": 19,
     "metadata": {},
     "output_type": "execute_result"
    }
   ],
   "source": [
    "# Example\n",
    "fruits.discard(\"apple\")\n",
    "fruits"
   ]
  },
  {
   "cell_type": "markdown",
   "metadata": {},
   "source": [
    "### issubset()\n",
    "The `issubset()` method checks if the current set is a subset of another set. It returns `True` if all elements of the current set are present in the other set, otherwise `False`. \\\n",
    "Syntax: `is_subset = set1.issubset(set2)`"
   ]
  },
  {
   "cell_type": "code",
   "execution_count": 21,
   "metadata": {},
   "outputs": [
    {
     "data": {
      "text/plain": [
       "False"
      ]
     },
     "execution_count": 21,
     "metadata": {},
     "output_type": "execute_result"
    }
   ],
   "source": [
    "# Example\n",
    "colors = {\"orange\"}\n",
    "is_subset = fruits.issubset(colors)\n",
    "is_subset"
   ]
  },
  {
   "cell_type": "markdown",
   "metadata": {},
   "source": [
    "### issuperset()\n",
    "The `issuperset()` method checks if the current set is a superset of another set. It returns `True` if all elements of the other set are present in the currrent set, otherwise `False`. \\\n",
    "Syntax: `is_superset = colors.issuperset(fruits)`"
   ]
  },
  {
   "cell_type": "code",
   "execution_count": 22,
   "metadata": {},
   "outputs": [
    {
     "data": {
      "text/plain": [
       "False"
      ]
     },
     "execution_count": 22,
     "metadata": {},
     "output_type": "execute_result"
    }
   ],
   "source": [
    "# Example\n",
    "is_superset = colors.issuperset(fruits)\n",
    "is_superset"
   ]
  },
  {
   "cell_type": "markdown",
   "metadata": {},
   "source": [
    "### pop()\n",
    "The `pop()` method removes and returns an arbitrary element from the set. It raises a `KeyError` if the set is empty. Use this method to remove elements when the order doesnt matter. \\\n",
    "Syntax: `removed_element = set_name.pop()`"
   ]
  },
  {
   "cell_type": "code",
   "execution_count": 23,
   "metadata": {},
   "outputs": [
    {
     "data": {
      "text/plain": [
       "'banana'"
      ]
     },
     "execution_count": 23,
     "metadata": {},
     "output_type": "execute_result"
    }
   ],
   "source": [
    "# Example\n",
    "removed_fruit = fruits.pop()\n",
    "removed_fruit"
   ]
  },
  {
   "cell_type": "markdown",
   "metadata": {},
   "source": [
    "### remove()\n",
    "Use the `remove()` method to remove a specific element from the set. Raises a `KeyError` if the element is not found. \\\n",
    "Syntax: `set_name.remove(element)`"
   ]
  },
  {
   "cell_type": "code",
   "execution_count": 24,
   "metadata": {},
   "outputs": [
    {
     "ename": "KeyError",
     "evalue": "'banana'",
     "output_type": "error",
     "traceback": [
      "\u001b[0;31m---------------------------------------------------------------------------\u001b[0m",
      "\u001b[0;31mKeyError\u001b[0m                                  Traceback (most recent call last)",
      "Cell \u001b[0;32mIn[24], line 2\u001b[0m\n\u001b[1;32m      1\u001b[0m \u001b[38;5;66;03m# Example\u001b[39;00m\n\u001b[0;32m----> 2\u001b[0m \u001b[43mfruits\u001b[49m\u001b[38;5;241;43m.\u001b[39;49m\u001b[43mremove\u001b[49m\u001b[43m(\u001b[49m\u001b[38;5;124;43m\"\u001b[39;49m\u001b[38;5;124;43mbanana\u001b[39;49m\u001b[38;5;124;43m\"\u001b[39;49m\u001b[43m)\u001b[49m\n",
      "\u001b[0;31mKeyError\u001b[0m: 'banana'"
     ]
    }
   ],
   "source": [
    "# Example\n",
    "fruits.remove(\"banana\")"
   ]
  },
  {
   "cell_type": "markdown",
   "metadata": {},
   "source": [
    "### Set Operations\n",
    "Perform various operations on sets: `union`, `intersection`, `difference`, `symmetric difference`. \\\n",
    "Syntax: `union_set = set1.union(set2)` \\\n",
    "        `intersection_set = set1.intersection(set2)` \\\n",
    "        `difference_set = set1.difference(set2)` \\\n",
    "        `sym_diff_set = set1.symmetric_difference(set2)`"
   ]
  },
  {
   "cell_type": "code",
   "execution_count": 26,
   "metadata": {},
   "outputs": [],
   "source": [
    "# Example\n",
    "combined = fruits.union(colors)\n",
    "common = fruits.intersection(colors)\n",
    "unique_to_fruits = fruits.difference(colors)\n",
    "sym_diff = fruits.symmetric_difference(colors)"
   ]
  },
  {
   "cell_type": "markdown",
   "metadata": {},
   "source": [
    "### update()\n",
    "The `update()` method adds elements from another iterable into the set. It maintains the uniqueness of elements. \\\n",
    "Syntax: `set_name.update(iterable)`"
   ]
  },
  {
   "cell_type": "code",
   "execution_count": 27,
   "metadata": {},
   "outputs": [
    {
     "data": {
      "text/plain": [
       "{'grape', 'kiwi', 'orange'}"
      ]
     },
     "execution_count": 27,
     "metadata": {},
     "output_type": "execute_result"
    }
   ],
   "source": [
    "# Example\n",
    "fruits.update([\"kiwi\", \"grape\"])\n",
    "fruits"
   ]
  },
  {
   "cell_type": "markdown",
   "metadata": {},
   "source": []
  }
 ],
 "metadata": {
  "kernelspec": {
   "display_name": "Python 3",
   "language": "python",
   "name": "python3"
  },
  "language_info": {
   "codemirror_mode": {
    "name": "ipython",
    "version": 3
   },
   "file_extension": ".py",
   "mimetype": "text/x-python",
   "name": "python",
   "nbconvert_exporter": "python",
   "pygments_lexer": "ipython3",
   "version": "3.9.6"
  }
 },
 "nbformat": 4,
 "nbformat_minor": 2
}
